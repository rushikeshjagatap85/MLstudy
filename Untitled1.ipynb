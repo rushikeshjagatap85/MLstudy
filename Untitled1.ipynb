{
 "cells": [
  {
   "cell_type": "code",
   "execution_count": 1,
   "id": "cc355485",
   "metadata": {},
   "outputs": [],
   "source": [
    "from pyspark.sql import SparkSession"
   ]
  },
  {
   "cell_type": "code",
   "execution_count": 2,
   "id": "9fb3ef21",
   "metadata": {},
   "outputs": [],
   "source": [
    "spark=SparkSession.builder.appName(\"new\").getOrCreate()"
   ]
  },
  {
   "cell_type": "code",
   "execution_count": 3,
   "id": "633cb4bb",
   "metadata": {},
   "outputs": [],
   "source": [
    "df=spark.read.csv(\"New Text Document.csv\",header=True,inferSchema=True)"
   ]
  },
  {
   "cell_type": "code",
   "execution_count": 4,
   "id": "807e7a50",
   "metadata": {},
   "outputs": [
    {
     "name": "stdout",
     "output_type": "stream",
     "text": [
      "+---------+----+------+----+\n",
      "|     name| age|gender| sal|\n",
      "+---------+----+------+----+\n",
      "|rushikesh|  24|  male|   8|\n",
      "|     amol|null|  male|null|\n",
      "|  pratham|null|  null|  12|\n",
      "|   reshma|  24|female|  16|\n",
      "+---------+----+------+----+\n",
      "\n"
     ]
    }
   ],
   "source": [
    "df.show()"
   ]
  },
  {
   "cell_type": "code",
   "execution_count": 7,
   "id": "3c02f5a2",
   "metadata": {},
   "outputs": [
    {
     "name": "stdout",
     "output_type": "stream",
     "text": [
      "+---+\n",
      "|sal|\n",
      "+---+\n",
      "|  8|\n",
      "| 15|\n",
      "| 12|\n",
      "| 16|\n",
      "+---+\n",
      "\n"
     ]
    }
   ],
   "source": [
    "df.select(\"sal\").fillna(15).show()"
   ]
  },
  {
   "cell_type": "code",
   "execution_count": 8,
   "id": "cb09c9d3",
   "metadata": {},
   "outputs": [],
   "source": [
    "from pyspark.ml.feature import Imputer"
   ]
  },
  {
   "cell_type": "code",
   "execution_count": 9,
   "id": "6a35ee00",
   "metadata": {},
   "outputs": [],
   "source": [
    "obj = Imputer(inputCols=['age','sal'],\n",
    "             outputCols=['age','sal']).setStrategy(\"mode\")"
   ]
  },
  {
   "cell_type": "code",
   "execution_count": 10,
   "id": "63e43c1c",
   "metadata": {},
   "outputs": [
    {
     "name": "stdout",
     "output_type": "stream",
     "text": [
      "+---------+---+------+---+\n",
      "|     name|age|gender|sal|\n",
      "+---------+---+------+---+\n",
      "|rushikesh| 24|  male|  8|\n",
      "|     amol| 24|  male|  8|\n",
      "|  pratham| 24|  null| 12|\n",
      "|   reshma| 24|female| 16|\n",
      "+---------+---+------+---+\n",
      "\n"
     ]
    }
   ],
   "source": [
    "obj.fit(df).transform(df).show()"
   ]
  },
  {
   "cell_type": "code",
   "execution_count": 11,
   "id": "f72f96b0",
   "metadata": {},
   "outputs": [
    {
     "name": "stdout",
     "output_type": "stream",
     "text": [
      "+---------+----+------+----+\n",
      "|     name| age|gender| sal|\n",
      "+---------+----+------+----+\n",
      "|rushikesh|  24|  male|   8|\n",
      "|     amol|null|  male|null|\n",
      "|  pratham|null|  null|  12|\n",
      "|   reshma|  24|female|  16|\n",
      "+---------+----+------+----+\n",
      "\n"
     ]
    }
   ],
   "source": [
    "df.show()"
   ]
  },
  {
   "cell_type": "code",
   "execution_count": 15,
   "id": "a52cc85e",
   "metadata": {},
   "outputs": [
    {
     "name": "stdout",
     "output_type": "stream",
     "text": [
      "+---------+----+------+----+\n",
      "|     name| age|gender| sal|\n",
      "+---------+----+------+----+\n",
      "|rushikesh|  24|  male|   8|\n",
      "|     amol|null|  male|null|\n",
      "|  pratham|null|  null|  12|\n",
      "|   reshma|  24|female|  16|\n",
      "+---------+----+------+----+\n",
      "\n"
     ]
    }
   ],
   "source": [
    "df.show()"
   ]
  },
  {
   "cell_type": "code",
   "execution_count": 17,
   "id": "d501a124",
   "metadata": {},
   "outputs": [
    {
     "name": "stdout",
     "output_type": "stream",
     "text": [
      "+---------+---+------+---+\n",
      "|     name|age|gender|sal|\n",
      "+---------+---+------+---+\n",
      "|rushikesh| 24|  male|  8|\n",
      "|   reshma| 24|female| 16|\n",
      "+---------+---+------+---+\n",
      "\n"
     ]
    }
   ],
   "source": [
    "df.na.drop(thresh=3).show()"
   ]
  },
  {
   "cell_type": "code",
   "execution_count": null,
   "id": "d5560d32",
   "metadata": {},
   "outputs": [],
   "source": []
  }
 ],
 "metadata": {
  "kernelspec": {
   "display_name": "Python 3",
   "language": "python",
   "name": "python3"
  },
  "language_info": {
   "codemirror_mode": {
    "name": "ipython",
    "version": 3
   },
   "file_extension": ".py",
   "mimetype": "text/x-python",
   "name": "python",
   "nbconvert_exporter": "python",
   "pygments_lexer": "ipython3",
   "version": "3.9.5"
  }
 },
 "nbformat": 4,
 "nbformat_minor": 5
}
