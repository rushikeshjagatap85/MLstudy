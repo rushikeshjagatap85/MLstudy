{
 "cells": [
  {
   "cell_type": "code",
   "execution_count": 1,
   "id": "b44a4e90",
   "metadata": {},
   "outputs": [],
   "source": [
    "from pyspark.sql import SparkSession"
   ]
  },
  {
   "cell_type": "code",
   "execution_count": 2,
   "id": "47acfd9d",
   "metadata": {},
   "outputs": [],
   "source": [
    "spark=SparkSession.builder.appName(\"app\").getOrCreate()"
   ]
  },
  {
   "cell_type": "code",
   "execution_count": 3,
   "id": "8981dbbc",
   "metadata": {},
   "outputs": [
    {
     "data": {
      "text/html": [
       "\n",
       "            <div>\n",
       "                <p><b>SparkSession - in-memory</b></p>\n",
       "                \n",
       "        <div>\n",
       "            <p><b>SparkContext</b></p>\n",
       "\n",
       "            <p><a href=\"http://LAPTOP-3F3BGQT0.mshome.net:4041\">Spark UI</a></p>\n",
       "\n",
       "            <dl>\n",
       "              <dt>Version</dt>\n",
       "                <dd><code>v3.3.2</code></dd>\n",
       "              <dt>Master</dt>\n",
       "                <dd><code>local[*]</code></dd>\n",
       "              <dt>AppName</dt>\n",
       "                <dd><code>app</code></dd>\n",
       "            </dl>\n",
       "        </div>\n",
       "        \n",
       "            </div>\n",
       "        "
      ],
      "text/plain": [
       "<pyspark.sql.session.SparkSession at 0x2326a2dd850>"
      ]
     },
     "execution_count": 3,
     "metadata": {},
     "output_type": "execute_result"
    }
   ],
   "source": [
    "spark"
   ]
  },
  {
   "cell_type": "code",
   "execution_count": 13,
   "id": "4c3ddbc4",
   "metadata": {},
   "outputs": [],
   "source": [
    "df=spark.read.csv(\"New Text Document.csv\",inferSchema=True,header=True)"
   ]
  },
  {
   "cell_type": "code",
   "execution_count": 14,
   "id": "05c44da2",
   "metadata": {},
   "outputs": [
    {
     "data": {
      "text/plain": [
       "DataFrame[name: string, age: int, gender: string, sal: int]"
      ]
     },
     "execution_count": 14,
     "metadata": {},
     "output_type": "execute_result"
    }
   ],
   "source": [
    "df"
   ]
  },
  {
   "cell_type": "code",
   "execution_count": 15,
   "id": "b38565fd",
   "metadata": {},
   "outputs": [
    {
     "name": "stdout",
     "output_type": "stream",
     "text": [
      "+---------+----+------+----+\n",
      "|     name| age|gender| sal|\n",
      "+---------+----+------+----+\n",
      "|rushikesh|  24|  male|   8|\n",
      "|     amol|null|  male|null|\n",
      "|  pratham|null|  null|  12|\n",
      "|   reshma|  24|female|  16|\n",
      "+---------+----+------+----+\n",
      "\n"
     ]
    }
   ],
   "source": [
    "df.show()"
   ]
  },
  {
   "cell_type": "code",
   "execution_count": 18,
   "id": "9701988d",
   "metadata": {},
   "outputs": [
    {
     "name": "stdout",
     "output_type": "stream",
     "text": [
      "+---------+----+------+----+\n",
      "|     name| age|gender| sal|\n",
      "+---------+----+------+----+\n",
      "|rushikesh|  24|  male|   8|\n",
      "|     amol|null|  male|null|\n",
      "|  pratham|null|  male|  12|\n",
      "|   reshma|  24|female|  16|\n",
      "+---------+----+------+----+\n",
      "\n"
     ]
    }
   ],
   "source": [
    "df.fillna(\"male\").show()"
   ]
  },
  {
   "cell_type": "code",
   "execution_count": 19,
   "id": "501c5e2a",
   "metadata": {},
   "outputs": [],
   "source": [
    "from pyspark.ml.feature import Imputer"
   ]
  },
  {
   "cell_type": "code",
   "execution_count": 25,
   "id": "6b7dc23d",
   "metadata": {},
   "outputs": [],
   "source": [
    "obj=Imputer(inputCols=[\"age\",\"sal\"],outputCols=[\"Age\",\"sal1\"]).setStrategy(\"mean\")"
   ]
  },
  {
   "cell_type": "code",
   "execution_count": 26,
   "id": "478ee903",
   "metadata": {},
   "outputs": [
    {
     "name": "stdout",
     "output_type": "stream",
     "text": [
      "+---------+---+------+----+----+\n",
      "|     name|Age|gender| sal|sal1|\n",
      "+---------+---+------+----+----+\n",
      "|rushikesh| 24|  male|   8|   8|\n",
      "|     amol| 24|  male|null|  12|\n",
      "|  pratham| 24|  null|  12|  12|\n",
      "|   reshma| 24|female|  16|  16|\n",
      "+---------+---+------+----+----+\n",
      "\n"
     ]
    }
   ],
   "source": [
    "obj.fit(df).transform(df).show()"
   ]
  },
  {
   "cell_type": "code",
   "execution_count": 28,
   "id": "e84e0786",
   "metadata": {},
   "outputs": [
    {
     "name": "stdout",
     "output_type": "stream",
     "text": [
      "+---------+----+------+\n",
      "|     name| age|gender|\n",
      "+---------+----+------+\n",
      "|rushikesh|  24|  male|\n",
      "|     amol|null|  male|\n",
      "|  pratham|null|  null|\n",
      "|   reshma|  24|female|\n",
      "+---------+----+------+\n",
      "\n"
     ]
    }
   ],
   "source": [
    "df.drop(\"sal\").show()"
   ]
  },
  {
   "cell_type": "code",
   "execution_count": null,
   "id": "5bd9484d",
   "metadata": {},
   "outputs": [],
   "source": []
  }
 ],
 "metadata": {
  "kernelspec": {
   "display_name": "Python 3",
   "language": "python",
   "name": "python3"
  },
  "language_info": {
   "codemirror_mode": {
    "name": "ipython",
    "version": 3
   },
   "file_extension": ".py",
   "mimetype": "text/x-python",
   "name": "python",
   "nbconvert_exporter": "python",
   "pygments_lexer": "ipython3",
   "version": "3.9.5"
  }
 },
 "nbformat": 4,
 "nbformat_minor": 5
}
