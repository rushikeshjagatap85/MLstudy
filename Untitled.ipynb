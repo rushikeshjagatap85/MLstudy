{
 "cells": [
  {
   "cell_type": "code",
   "execution_count": 2,
   "id": "b0b169c8",
   "metadata": {},
   "outputs": [
    {
     "name": "stdout",
     "output_type": "stream",
     "text": [
      "Collecting pyspark\n",
      "  Downloading pyspark-3.3.2.tar.gz (281.4 MB)\n",
      "     -------------------------------------- 281.4/281.4 MB 1.4 MB/s eta 0:00:00\n",
      "  Preparing metadata (setup.py): started\n",
      "  Preparing metadata (setup.py): finished with status 'done'\n",
      "Collecting py4j==0.10.9.5\n",
      "  Downloading py4j-0.10.9.5-py2.py3-none-any.whl (199 kB)\n",
      "     -------------------------------------- 199.7/199.7 kB 2.0 MB/s eta 0:00:00\n",
      "Building wheels for collected packages: pyspark\n",
      "  Building wheel for pyspark (setup.py): started\n",
      "  Building wheel for pyspark (setup.py): finished with status 'done'\n",
      "  Created wheel for pyspark: filename=pyspark-3.3.2-py2.py3-none-any.whl size=281824026 sha256=4806f40f4cc1aff348413df8b47d697ed7eb1f2a0055a2cfd3c4ea47d5a3d069\n",
      "  Stored in directory: c:\\users\\admin\\appdata\\local\\pip\\cache\\wheels\\6c\\e3\\9b\\0525ce8a69478916513509d43693511463c6468db0de237c86\n",
      "Successfully built pyspark\n",
      "Installing collected packages: py4j, pyspark\n",
      "Successfully installed py4j-0.10.9.5 pyspark-3.3.2\n",
      "\n",
      "[notice] A new release of pip available: 22.1.2 -> 23.0.1\n",
      "[notice] To update, run: python.exe -m pip install --upgrade pip\n"
     ]
    }
   ],
   "source": [
    "!pip install pyspark"
   ]
  },
  {
   "cell_type": "code",
   "execution_count": 4,
   "id": "8769148b",
   "metadata": {},
   "outputs": [],
   "source": [
    "from pyspark.sql import SparkSession"
   ]
  },
  {
   "cell_type": "code",
   "execution_count": 5,
   "id": "b33b2478",
   "metadata": {},
   "outputs": [],
   "source": [
    "spark=SparkSession.builder.appName(\"newapp\").getOrCreate()"
   ]
  },
  {
   "cell_type": "code",
   "execution_count": 6,
   "id": "894ff56d",
   "metadata": {},
   "outputs": [
    {
     "data": {
      "text/html": [
       "\n",
       "            <div>\n",
       "                <p><b>SparkSession - in-memory</b></p>\n",
       "                \n",
       "        <div>\n",
       "            <p><b>SparkContext</b></p>\n",
       "\n",
       "            <p><a href=\"http://LAPTOP-3F3BGQT0.mshome.net:4040\">Spark UI</a></p>\n",
       "\n",
       "            <dl>\n",
       "              <dt>Version</dt>\n",
       "                <dd><code>v3.3.2</code></dd>\n",
       "              <dt>Master</dt>\n",
       "                <dd><code>local[*]</code></dd>\n",
       "              <dt>AppName</dt>\n",
       "                <dd><code>newapp</code></dd>\n",
       "            </dl>\n",
       "        </div>\n",
       "        \n",
       "            </div>\n",
       "        "
      ],
      "text/plain": [
       "<pyspark.sql.session.SparkSession at 0x23fcdc9ba60>"
      ]
     },
     "execution_count": 6,
     "metadata": {},
     "output_type": "execute_result"
    }
   ],
   "source": [
    "spark"
   ]
  },
  {
   "cell_type": "code",
   "execution_count": 12,
   "id": "7ac27a64",
   "metadata": {},
   "outputs": [],
   "source": [
    "df=spark.read.option(\"header\",\"true\").csv(\"salary.csv\",inferSchema=True)"
   ]
  },
  {
   "cell_type": "code",
   "execution_count": 13,
   "id": "2d690a81",
   "metadata": {},
   "outputs": [
    {
     "data": {
      "text/plain": [
       "DataFrame[_c0: int, Metro: string, Mean Software Developer Salary (adjusted): double, Mean Software Developer Salary (unadjusted): double, Mean Unadjusted Salary (all occupations): double, Number of Software Developer Jobs: double, Median Home Price: double, City: string, Cost of Living avg: double, Rent avg: double, Cost of Living Plus Rent avg: double, Local Purchasing Power avg: double]"
      ]
     },
     "execution_count": 13,
     "metadata": {},
     "output_type": "execute_result"
    }
   ],
   "source": [
    "df"
   ]
  },
  {
   "cell_type": "code",
   "execution_count": 16,
   "id": "0016cef8",
   "metadata": {},
   "outputs": [
    {
     "name": "stdout",
     "output_type": "stream",
     "text": [
      "+---+--------------------+-----------------------------------------+-------------------------------------------+----------------------------------------+---------------------------------+-----------------+--------------------+------------------+--------+----------------------------+--------------------------+\n",
      "|_c0|               Metro|Mean Software Developer Salary (adjusted)|Mean Software Developer Salary (unadjusted)|Mean Unadjusted Salary (all occupations)|Number of Software Developer Jobs|Median Home Price|                City|Cost of Living avg|Rent avg|Cost of Living Plus Rent avg|Local Purchasing Power avg|\n",
      "+---+--------------------+-----------------------------------------+-------------------------------------------+----------------------------------------+---------------------------------+-----------------+--------------------+------------------+--------+----------------------------+--------------------------+\n",
      "|  0|        Columbus, OH|                                 117552.0|                                   108500.0|                                 51260.0|                          13430.0|         192000.0|        Columbus, OH|             984.8|  1421.5|                      2856.5|                    9335.4|\n",
      "|  1|Seattle-Tacoma-Be...|                                 117323.0|                                   131167.0|                                 65400.0|                          65760.0|         491600.0|         Seattle, WA|            1250.7|  2528.2|                      4091.5|                    8971.3|\n",
      "|  2|Charlotte-Concord...|                                 114122.0|                                   107046.0|                                 51000.0|                          12800.0|         208500.0|       Charlotte, NC|             989.9|  1974.5|                      3221.1|                    8939.8|\n",
      "|  3|Colorado Springs, CO|                                 112118.0|                                   111670.0|                                 51430.0|                           5780.0|         296500.0|Colorado Springs, CO|            1049.2|  1594.0|                      3094.5|                    8493.1|\n",
      "|  4|          Dayton, OH|                                 111616.0|                                    99338.0|                                 50100.0|                           4240.0|         124100.0|          Dayton, OH|             961.2|  1072.1|                      2586.0|                    4887.7|\n",
      "|  5|Greensboro-High P...|                                 111050.0|                                    99612.0|                                 44570.0|                           1560.0|         136000.0|      Greensboro, NC|             992.9|  1445.4|                      2888.0|                    5721.9|\n",
      "|  6|San Francisco-Oak...|                                 111017.0|                                   142101.0|                                 72400.0|                          59550.0|         946700.0|   San Francisco, CA|            1326.9|  4163.3|                      5290.7|                    8216.7|\n",
      "|  7|San Francisco-Oak...|                                 111017.0|                                   142101.0|                                 72400.0|                          59550.0|         946700.0|         Oakland, CA|            1313.0|  3371.1|                      4754.9|                    6894.3|\n",
      "|  8|San Antonio-New B...|                                 110898.0|                                   104688.0|                                 46650.0|                           5410.0|         194100.0|     San Antonio, TX|             884.3|  1469.5|                      2688.9|                    8494.9|\n",
      "|  9|Dallas-Fort Worth...|                                 110891.0|                                   111113.0|                                 52590.0|                          46130.0|         243900.0|      Fort Worth, TX|             995.0|  1551.7|                      2960.0|                    6949.2|\n",
      "| 10|Dallas-Fort Worth...|                                 110891.0|                                   111113.0|                                 52590.0|                          46130.0|         243900.0|          Dallas, TX|             958.7|  1926.5|                      3128.6|                   10530.6|\n",
      "| 11|Durham-Chapel Hil...|                                 110313.0|                                   105018.0|                                 59940.0|                           6800.0|         243700.0|          Durham, NC|             994.3|  1616.2|                      2999.9|                    6464.2|\n",
      "| 12|Atlanta-Sandy Spr...|                                 109849.0|                                   106334.0|                                 52750.0|                          38110.0|         219600.0|         Atlanta, GA|            1082.3|  1865.4|                      3334.0|                    8063.0|\n",
      "| 13|Cincinnati, OH-KY-IN|                                 109013.0|                                    98112.0|                                 50030.0|                           8620.0|         169900.0|      Cincinnati, OH|             909.8| 58597.6|                      2775.1|                    7723.6|\n",
      "| 14|Austin-Round Rock...|                                 108990.0|                                   109535.0|                                 53810.0|                          21160.0|         311300.0|          Austin, TX|             939.6|  2214.9|                      3275.7|                    9762.4|\n",
      "| 15|         Raleigh, NC|                                 107676.0|                                   103584.0|                                 52580.0|                          12560.0|         267200.0|         Raleigh, NC|             963.6|  1589.4|                      2922.2|                    8892.9|\n",
      "| 16|Houston-The Woodl...|                                 107672.0|                                   109503.0|                                 54290.0|                          20400.0|         205600.0|         Houston, TX|             903.4|  1665.8|                      2852.3|                   10673.7|\n",
      "| 17|Baltimore-Columbi...|                                 107282.0|                                   115006.0|                                 57740.0|                          16200.0|         267800.0|       Baltimore, MD|            1039.3|  1600.5|                      3078.7|                    8399.9|\n",
      "| 18|Las Vegas-Henders...|                                 107175.0|                                   104495.0|                                 45600.0|                           3900.0|         279900.0|       Las Vegas, NV|             965.6|  1467.2|                      2848.1|                    7702.6|\n",
      "| 19|          Tucson, AZ|                                 107170.0|                                   101919.0|                                 47610.0|                           4480.0|         206200.0|          Tucson, AZ|             909.1|  1062.1|                    130097.8|                    5164.1|\n",
      "+---+--------------------+-----------------------------------------+-------------------------------------------+----------------------------------------+---------------------------------+-----------------+--------------------+------------------+--------+----------------------------+--------------------------+\n",
      "only showing top 20 rows\n",
      "\n"
     ]
    }
   ],
   "source": [
    "df.show()"
   ]
  },
  {
   "cell_type": "code",
   "execution_count": 18,
   "id": "e49e9ed2",
   "metadata": {
    "scrolled": true
   },
   "outputs": [
    {
     "name": "stdout",
     "output_type": "stream",
     "text": [
      "root\n",
      " |-- _c0: integer (nullable = true)\n",
      " |-- Metro: string (nullable = true)\n",
      " |-- Mean Software Developer Salary (adjusted): double (nullable = true)\n",
      " |-- Mean Software Developer Salary (unadjusted): double (nullable = true)\n",
      " |-- Mean Unadjusted Salary (all occupations): double (nullable = true)\n",
      " |-- Number of Software Developer Jobs: double (nullable = true)\n",
      " |-- Median Home Price: double (nullable = true)\n",
      " |-- City: string (nullable = true)\n",
      " |-- Cost of Living avg: double (nullable = true)\n",
      " |-- Rent avg: double (nullable = true)\n",
      " |-- Cost of Living Plus Rent avg: double (nullable = true)\n",
      " |-- Local Purchasing Power avg: double (nullable = true)\n",
      "\n"
     ]
    }
   ],
   "source": [
    "df.printSchema()"
   ]
  },
  {
   "cell_type": "code",
   "execution_count": 19,
   "id": "a258b4bd",
   "metadata": {},
   "outputs": [
    {
     "name": "stdout",
     "output_type": "stream",
     "text": [
      "400\n",
      "200\n"
     ]
    }
   ],
   "source": [
    "def decor1(func):\n",
    "    def inner():\n",
    "        x = func()\n",
    "        return x * x\n",
    "    return inner\n",
    " \n",
    "def decor(func):\n",
    "    def inner():\n",
    "        x = func()\n",
    "        return 2 * x\n",
    "    return inner\n",
    " \n",
    "@decor1\n",
    "@decor\n",
    "def num():\n",
    "    return 10\n",
    " \n",
    "@decor\n",
    "@decor1\n",
    "def num2():\n",
    "    return 10\n",
    "   \n",
    "print(num())\n",
    "print(num2())"
   ]
  },
  {
   "cell_type": "code",
   "execution_count": null,
   "id": "60711a20",
   "metadata": {},
   "outputs": [],
   "source": []
  }
 ],
 "metadata": {
  "kernelspec": {
   "display_name": "Python 3",
   "language": "python",
   "name": "python3"
  },
  "language_info": {
   "codemirror_mode": {
    "name": "ipython",
    "version": 3
   },
   "file_extension": ".py",
   "mimetype": "text/x-python",
   "name": "python",
   "nbconvert_exporter": "python",
   "pygments_lexer": "ipython3",
   "version": "3.9.5"
  }
 },
 "nbformat": 4,
 "nbformat_minor": 5
}
