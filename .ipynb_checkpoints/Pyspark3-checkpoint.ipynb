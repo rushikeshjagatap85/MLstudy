{
 "cells": [
  {
   "cell_type": "code",
   "execution_count": 3,
   "id": "92dc3604",
   "metadata": {},
   "outputs": [],
   "source": [
    "from pyspark.sql import SparkSession"
   ]
  },
  {
   "cell_type": "code",
   "execution_count": 4,
   "id": "057e5a82",
   "metadata": {},
   "outputs": [],
   "source": [
    "spark = SparkSession.builder.appName(\"test\").getOrCreate()"
   ]
  },
  {
   "cell_type": "code",
   "execution_count": 7,
   "id": "6e6f714d",
   "metadata": {},
   "outputs": [],
   "source": [
    "df = spark.read.csv('test.csv',header=True,inferSchema=True)"
   ]
  },
  {
   "cell_type": "code",
   "execution_count": 11,
   "id": "36575b99",
   "metadata": {},
   "outputs": [
    {
     "name": "stdout",
     "output_type": "stream",
     "text": [
      "+------+----+-----+\n",
      "|  name| age|  sal|\n",
      "+------+----+-----+\n",
      "|kesahv|  25|75000|\n",
      "|  null|  30|95000|\n",
      "|  null|null| null|\n",
      "|  null|null|65144|\n",
      "|   jon|null| null|\n",
      "|sonali|  30|75000|\n",
      "+------+----+-----+\n",
      "\n"
     ]
    }
   ],
   "source": [
    "g = df.show()"
   ]
  },
  {
   "cell_type": "code",
   "execution_count": 12,
   "id": "ac8d18e7",
   "metadata": {},
   "outputs": [],
   "source": [
    "g"
   ]
  },
  {
   "cell_type": "code",
   "execution_count": 13,
   "id": "d2aef483",
   "metadata": {},
   "outputs": [
    {
     "data": {
      "text/plain": [
       "NoneType"
      ]
     },
     "execution_count": 13,
     "metadata": {},
     "output_type": "execute_result"
    }
   ],
   "source": [
    "type(g)"
   ]
  },
  {
   "cell_type": "code",
   "execution_count": 14,
   "id": "2ab5ee1a",
   "metadata": {},
   "outputs": [
    {
     "name": "stdout",
     "output_type": "stream",
     "text": [
      "+------+----+-----+\n",
      "|  name| age|  sal|\n",
      "+------+----+-----+\n",
      "|kesahv|  25|75000|\n",
      "|  null|  30|95000|\n",
      "|  null|null| null|\n",
      "|  null|null|65144|\n",
      "|   jon|null| null|\n",
      "|sonali|  30|75000|\n",
      "+------+----+-----+\n",
      "\n"
     ]
    }
   ],
   "source": [
    "df.show()"
   ]
  },
  {
   "cell_type": "code",
   "execution_count": 16,
   "id": "d1548c4c",
   "metadata": {},
   "outputs": [
    {
     "name": "stdout",
     "output_type": "stream",
     "text": [
      "+------+----+-----+\n",
      "|  name| age|  sal|\n",
      "+------+----+-----+\n",
      "|kesahv|  25|75000|\n",
      "|    na|  30|95000|\n",
      "|    na|null| null|\n",
      "|    na|null|65144|\n",
      "|   jon|null| null|\n",
      "|sonali|  30|75000|\n",
      "+------+----+-----+\n",
      "\n"
     ]
    }
   ],
   "source": [
    "df.fillna('na').show()"
   ]
  },
  {
   "cell_type": "code",
   "execution_count": 17,
   "id": "7d3f7a77",
   "metadata": {},
   "outputs": [],
   "source": [
    "from pyspark.ml.feature import Imputer\n"
   ]
  },
  {
   "cell_type": "code",
   "execution_count": 29,
   "id": "02f0425f",
   "metadata": {},
   "outputs": [],
   "source": [
    "obj = Imputer(inputCols=['age','sal'],\n",
    "             outputCols=['age','sal']).setStrategy(\"mean\")"
   ]
  },
  {
   "cell_type": "code",
   "execution_count": 30,
   "id": "44b53dac",
   "metadata": {},
   "outputs": [
    {
     "name": "stdout",
     "output_type": "stream",
     "text": [
      "+------+---+-----+\n",
      "|  name|age|  sal|\n",
      "+------+---+-----+\n",
      "|kesahv| 25|75000|\n",
      "|  null| 30|95000|\n",
      "|  null| 28|77536|\n",
      "|  null| 28|65144|\n",
      "|   jon| 28|77536|\n",
      "|sonali| 30|75000|\n",
      "+------+---+-----+\n",
      "\n"
     ]
    }
   ],
   "source": [
    "obj.fit(df).transform(df).show()"
   ]
  },
  {
   "cell_type": "code",
   "execution_count": 23,
   "id": "bd380137",
   "metadata": {},
   "outputs": [
    {
     "data": {
      "text/plain": [
       "85"
      ]
     },
     "execution_count": 23,
     "metadata": {},
     "output_type": "execute_result"
    }
   ],
   "source": [
    "25+30+30"
   ]
  },
  {
   "cell_type": "code",
   "execution_count": 24,
   "id": "ad07497d",
   "metadata": {},
   "outputs": [
    {
     "data": {
      "text/plain": [
       "28.333333333333332"
      ]
     },
     "execution_count": 24,
     "metadata": {},
     "output_type": "execute_result"
    }
   ],
   "source": [
    "85/3"
   ]
  },
  {
   "cell_type": "code",
   "execution_count": 33,
   "id": "b6f9616b",
   "metadata": {},
   "outputs": [
    {
     "name": "stdout",
     "output_type": "stream",
     "text": [
      "+------+---+-----+\n",
      "|  name|age|  sal|\n",
      "+------+---+-----+\n",
      "|kesahv| 25|75000|\n",
      "|  null| 30|95000|\n",
      "|  null|100|  100|\n",
      "|  null|100|65144|\n",
      "|   jon|100|  100|\n",
      "|sonali| 30|75000|\n",
      "+------+---+-----+\n",
      "\n"
     ]
    }
   ],
   "source": [
    "df.fillna(100).show()"
   ]
  },
  {
   "cell_type": "code",
   "execution_count": 34,
   "id": "94ea0720",
   "metadata": {},
   "outputs": [
    {
     "name": "stdout",
     "output_type": "stream",
     "text": [
      "+------+----+-----+\n",
      "|  name| age|  sal|\n",
      "+------+----+-----+\n",
      "|kesahv|  25|75000|\n",
      "|  null|  30|95000|\n",
      "|  null|null| null|\n",
      "|  null|null|65144|\n",
      "|   jon|null| null|\n",
      "|sonali|  30|75000|\n",
      "+------+----+-----+\n",
      "\n"
     ]
    }
   ],
   "source": [
    "df.show()"
   ]
  },
  {
   "cell_type": "code",
   "execution_count": 39,
   "id": "421a3314",
   "metadata": {},
   "outputs": [],
   "source": [
    "obj = Imputer(inputCol='age',\n",
    "             outputCol='age').setStrategy(\"bfill\")"
   ]
  },
  {
   "cell_type": "code",
   "execution_count": 40,
   "id": "ed46847e",
   "metadata": {},
   "outputs": [
    {
     "ename": "IllegalArgumentException",
     "evalue": "Imputer_98599652e4a1 parameter strategy given invalid value bfill.",
     "output_type": "error",
     "traceback": [
      "\u001b[1;31m---------------------------------------------------------------------------\u001b[0m",
      "\u001b[1;31mIllegalArgumentException\u001b[0m                  Traceback (most recent call last)",
      "Input \u001b[1;32mIn [40]\u001b[0m, in \u001b[0;36m<cell line: 1>\u001b[1;34m()\u001b[0m\n\u001b[1;32m----> 1\u001b[0m \u001b[43mobj\u001b[49m\u001b[38;5;241;43m.\u001b[39;49m\u001b[43mfit\u001b[49m\u001b[43m(\u001b[49m\u001b[43mdf\u001b[49m\u001b[43m)\u001b[49m\u001b[38;5;241m.\u001b[39mtransform(df)\u001b[38;5;241m.\u001b[39mshow()\n",
      "File \u001b[1;32m~\\anaconda3\\lib\\site-packages\\pyspark\\ml\\base.py:161\u001b[0m, in \u001b[0;36mEstimator.fit\u001b[1;34m(self, dataset, params)\u001b[0m\n\u001b[0;32m    159\u001b[0m         \u001b[38;5;28;01mreturn\u001b[39;00m \u001b[38;5;28mself\u001b[39m\u001b[38;5;241m.\u001b[39mcopy(params)\u001b[38;5;241m.\u001b[39m_fit(dataset)\n\u001b[0;32m    160\u001b[0m     \u001b[38;5;28;01melse\u001b[39;00m:\n\u001b[1;32m--> 161\u001b[0m         \u001b[38;5;28;01mreturn\u001b[39;00m \u001b[38;5;28;43mself\u001b[39;49m\u001b[38;5;241;43m.\u001b[39;49m\u001b[43m_fit\u001b[49m\u001b[43m(\u001b[49m\u001b[43mdataset\u001b[49m\u001b[43m)\u001b[49m\n\u001b[0;32m    162\u001b[0m \u001b[38;5;28;01melse\u001b[39;00m:\n\u001b[0;32m    163\u001b[0m     \u001b[38;5;28;01mraise\u001b[39;00m \u001b[38;5;167;01mValueError\u001b[39;00m(\u001b[38;5;124m\"\u001b[39m\u001b[38;5;124mParams must be either a param map or a list/tuple of param maps, \u001b[39m\u001b[38;5;124m\"\u001b[39m\n\u001b[0;32m    164\u001b[0m                      \u001b[38;5;124m\"\u001b[39m\u001b[38;5;124mbut got \u001b[39m\u001b[38;5;132;01m%s\u001b[39;00m\u001b[38;5;124m.\u001b[39m\u001b[38;5;124m\"\u001b[39m \u001b[38;5;241m%\u001b[39m \u001b[38;5;28mtype\u001b[39m(params))\n",
      "File \u001b[1;32m~\\anaconda3\\lib\\site-packages\\pyspark\\ml\\wrapper.py:335\u001b[0m, in \u001b[0;36mJavaEstimator._fit\u001b[1;34m(self, dataset)\u001b[0m\n\u001b[0;32m    334\u001b[0m \u001b[38;5;28;01mdef\u001b[39;00m \u001b[38;5;21m_fit\u001b[39m(\u001b[38;5;28mself\u001b[39m, dataset):\n\u001b[1;32m--> 335\u001b[0m     java_model \u001b[38;5;241m=\u001b[39m \u001b[38;5;28;43mself\u001b[39;49m\u001b[38;5;241;43m.\u001b[39;49m\u001b[43m_fit_java\u001b[49m\u001b[43m(\u001b[49m\u001b[43mdataset\u001b[49m\u001b[43m)\u001b[49m\n\u001b[0;32m    336\u001b[0m     model \u001b[38;5;241m=\u001b[39m \u001b[38;5;28mself\u001b[39m\u001b[38;5;241m.\u001b[39m_create_model(java_model)\n\u001b[0;32m    337\u001b[0m     \u001b[38;5;28;01mreturn\u001b[39;00m \u001b[38;5;28mself\u001b[39m\u001b[38;5;241m.\u001b[39m_copyValues(model)\n",
      "File \u001b[1;32m~\\anaconda3\\lib\\site-packages\\pyspark\\ml\\wrapper.py:331\u001b[0m, in \u001b[0;36mJavaEstimator._fit_java\u001b[1;34m(self, dataset)\u001b[0m\n\u001b[0;32m    317\u001b[0m \u001b[38;5;28;01mdef\u001b[39;00m \u001b[38;5;21m_fit_java\u001b[39m(\u001b[38;5;28mself\u001b[39m, dataset):\n\u001b[0;32m    318\u001b[0m     \u001b[38;5;124;03m\"\"\"\u001b[39;00m\n\u001b[0;32m    319\u001b[0m \u001b[38;5;124;03m    Fits a Java model to the input dataset.\u001b[39;00m\n\u001b[0;32m    320\u001b[0m \n\u001b[1;32m   (...)\u001b[0m\n\u001b[0;32m    329\u001b[0m \u001b[38;5;124;03m        fitted Java model\u001b[39;00m\n\u001b[0;32m    330\u001b[0m \u001b[38;5;124;03m    \"\"\"\u001b[39;00m\n\u001b[1;32m--> 331\u001b[0m     \u001b[38;5;28;43mself\u001b[39;49m\u001b[38;5;241;43m.\u001b[39;49m\u001b[43m_transfer_params_to_java\u001b[49m\u001b[43m(\u001b[49m\u001b[43m)\u001b[49m\n\u001b[0;32m    332\u001b[0m     \u001b[38;5;28;01mreturn\u001b[39;00m \u001b[38;5;28mself\u001b[39m\u001b[38;5;241m.\u001b[39m_java_obj\u001b[38;5;241m.\u001b[39mfit(dataset\u001b[38;5;241m.\u001b[39m_jdf)\n",
      "File \u001b[1;32m~\\anaconda3\\lib\\site-packages\\pyspark\\ml\\wrapper.py:143\u001b[0m, in \u001b[0;36mJavaParams._transfer_params_to_java\u001b[1;34m(self)\u001b[0m\n\u001b[0;32m    141\u001b[0m \u001b[38;5;28;01mfor\u001b[39;00m param \u001b[38;5;129;01min\u001b[39;00m \u001b[38;5;28mself\u001b[39m\u001b[38;5;241m.\u001b[39mparams:\n\u001b[0;32m    142\u001b[0m     \u001b[38;5;28;01mif\u001b[39;00m \u001b[38;5;28mself\u001b[39m\u001b[38;5;241m.\u001b[39misSet(param):\n\u001b[1;32m--> 143\u001b[0m         pair \u001b[38;5;241m=\u001b[39m \u001b[38;5;28;43mself\u001b[39;49m\u001b[38;5;241;43m.\u001b[39;49m\u001b[43m_make_java_param_pair\u001b[49m\u001b[43m(\u001b[49m\u001b[43mparam\u001b[49m\u001b[43m,\u001b[49m\u001b[43m \u001b[49m\u001b[38;5;28;43mself\u001b[39;49m\u001b[38;5;241;43m.\u001b[39;49m\u001b[43m_paramMap\u001b[49m\u001b[43m[\u001b[49m\u001b[43mparam\u001b[49m\u001b[43m]\u001b[49m\u001b[43m)\u001b[49m\n\u001b[0;32m    144\u001b[0m         \u001b[38;5;28mself\u001b[39m\u001b[38;5;241m.\u001b[39m_java_obj\u001b[38;5;241m.\u001b[39mset(pair)\n\u001b[0;32m    145\u001b[0m     \u001b[38;5;28;01mif\u001b[39;00m \u001b[38;5;28mself\u001b[39m\u001b[38;5;241m.\u001b[39mhasDefault(param):\n",
      "File \u001b[1;32m~\\anaconda3\\lib\\site-packages\\pyspark\\ml\\wrapper.py:134\u001b[0m, in \u001b[0;36mJavaParams._make_java_param_pair\u001b[1;34m(self, param, value)\u001b[0m\n\u001b[0;32m    132\u001b[0m java_param \u001b[38;5;241m=\u001b[39m \u001b[38;5;28mself\u001b[39m\u001b[38;5;241m.\u001b[39m_java_obj\u001b[38;5;241m.\u001b[39mgetParam(param\u001b[38;5;241m.\u001b[39mname)\n\u001b[0;32m    133\u001b[0m java_value \u001b[38;5;241m=\u001b[39m _py2java(sc, value)\n\u001b[1;32m--> 134\u001b[0m \u001b[38;5;28;01mreturn\u001b[39;00m \u001b[43mjava_param\u001b[49m\u001b[38;5;241;43m.\u001b[39;49m\u001b[43mw\u001b[49m\u001b[43m(\u001b[49m\u001b[43mjava_value\u001b[49m\u001b[43m)\u001b[49m\n",
      "File \u001b[1;32m~\\anaconda3\\lib\\site-packages\\py4j\\java_gateway.py:1309\u001b[0m, in \u001b[0;36mJavaMember.__call__\u001b[1;34m(self, *args)\u001b[0m\n\u001b[0;32m   1303\u001b[0m command \u001b[38;5;241m=\u001b[39m proto\u001b[38;5;241m.\u001b[39mCALL_COMMAND_NAME \u001b[38;5;241m+\u001b[39m\\\n\u001b[0;32m   1304\u001b[0m     \u001b[38;5;28mself\u001b[39m\u001b[38;5;241m.\u001b[39mcommand_header \u001b[38;5;241m+\u001b[39m\\\n\u001b[0;32m   1305\u001b[0m     args_command \u001b[38;5;241m+\u001b[39m\\\n\u001b[0;32m   1306\u001b[0m     proto\u001b[38;5;241m.\u001b[39mEND_COMMAND_PART\n\u001b[0;32m   1308\u001b[0m answer \u001b[38;5;241m=\u001b[39m \u001b[38;5;28mself\u001b[39m\u001b[38;5;241m.\u001b[39mgateway_client\u001b[38;5;241m.\u001b[39msend_command(command)\n\u001b[1;32m-> 1309\u001b[0m return_value \u001b[38;5;241m=\u001b[39m \u001b[43mget_return_value\u001b[49m\u001b[43m(\u001b[49m\n\u001b[0;32m   1310\u001b[0m \u001b[43m    \u001b[49m\u001b[43manswer\u001b[49m\u001b[43m,\u001b[49m\u001b[43m \u001b[49m\u001b[38;5;28;43mself\u001b[39;49m\u001b[38;5;241;43m.\u001b[39;49m\u001b[43mgateway_client\u001b[49m\u001b[43m,\u001b[49m\u001b[43m \u001b[49m\u001b[38;5;28;43mself\u001b[39;49m\u001b[38;5;241;43m.\u001b[39;49m\u001b[43mtarget_id\u001b[49m\u001b[43m,\u001b[49m\u001b[43m \u001b[49m\u001b[38;5;28;43mself\u001b[39;49m\u001b[38;5;241;43m.\u001b[39;49m\u001b[43mname\u001b[49m\u001b[43m)\u001b[49m\n\u001b[0;32m   1312\u001b[0m \u001b[38;5;28;01mfor\u001b[39;00m temp_arg \u001b[38;5;129;01min\u001b[39;00m temp_args:\n\u001b[0;32m   1313\u001b[0m     temp_arg\u001b[38;5;241m.\u001b[39m_detach()\n",
      "File \u001b[1;32m~\\anaconda3\\lib\\site-packages\\pyspark\\sql\\utils.py:117\u001b[0m, in \u001b[0;36mcapture_sql_exception.<locals>.deco\u001b[1;34m(*a, **kw)\u001b[0m\n\u001b[0;32m    113\u001b[0m converted \u001b[38;5;241m=\u001b[39m convert_exception(e\u001b[38;5;241m.\u001b[39mjava_exception)\n\u001b[0;32m    114\u001b[0m \u001b[38;5;28;01mif\u001b[39;00m \u001b[38;5;129;01mnot\u001b[39;00m \u001b[38;5;28misinstance\u001b[39m(converted, UnknownException):\n\u001b[0;32m    115\u001b[0m     \u001b[38;5;66;03m# Hide where the exception came from that shows a non-Pythonic\u001b[39;00m\n\u001b[0;32m    116\u001b[0m     \u001b[38;5;66;03m# JVM exception message.\u001b[39;00m\n\u001b[1;32m--> 117\u001b[0m     \u001b[38;5;28;01mraise\u001b[39;00m converted \u001b[38;5;28;01mfrom\u001b[39;00m \u001b[38;5;28mNone\u001b[39m\n\u001b[0;32m    118\u001b[0m \u001b[38;5;28;01melse\u001b[39;00m:\n\u001b[0;32m    119\u001b[0m     \u001b[38;5;28;01mraise\u001b[39;00m\n",
      "\u001b[1;31mIllegalArgumentException\u001b[0m: Imputer_98599652e4a1 parameter strategy given invalid value bfill."
     ]
    }
   ],
   "source": [
    "obj.fit(df).transform(df).show()"
   ]
  },
  {
   "cell_type": "code",
   "execution_count": 41,
   "id": "16f5820c",
   "metadata": {},
   "outputs": [
    {
     "name": "stdout",
     "output_type": "stream",
     "text": [
      "+------+----+-----+\n",
      "|  name| age|  sal|\n",
      "+------+----+-----+\n",
      "|kesahv|  25|75000|\n",
      "|  null|  30|95000|\n",
      "|  null|null| null|\n",
      "|  null|null|65144|\n",
      "|   jon|null| null|\n",
      "|sonali|  30|75000|\n",
      "+------+----+-----+\n",
      "\n"
     ]
    }
   ],
   "source": [
    "df.show()"
   ]
  },
  {
   "cell_type": "code",
   "execution_count": 43,
   "id": "c711de6a",
   "metadata": {},
   "outputs": [],
   "source": [
    "df1 = df.toPandas().fillna(method='ffill')"
   ]
  },
  {
   "cell_type": "code",
   "execution_count": 44,
   "id": "36f739cb",
   "metadata": {},
   "outputs": [
    {
     "data": {
      "text/plain": [
       "pandas.core.frame.DataFrame"
      ]
     },
     "execution_count": 44,
     "metadata": {},
     "output_type": "execute_result"
    }
   ],
   "source": [
    "type(df1)"
   ]
  },
  {
   "cell_type": "code",
   "execution_count": 45,
   "id": "4239cc68",
   "metadata": {},
   "outputs": [],
   "source": [
    "df1.to_csv('test12.csv')"
   ]
  },
  {
   "cell_type": "code",
   "execution_count": 46,
   "id": "8a4be1dc",
   "metadata": {},
   "outputs": [
    {
     "data": {
      "text/html": [
       "<div>\n",
       "<style scoped>\n",
       "    .dataframe tbody tr th:only-of-type {\n",
       "        vertical-align: middle;\n",
       "    }\n",
       "\n",
       "    .dataframe tbody tr th {\n",
       "        vertical-align: top;\n",
       "    }\n",
       "\n",
       "    .dataframe thead th {\n",
       "        text-align: right;\n",
       "    }\n",
       "</style>\n",
       "<table border=\"1\" class=\"dataframe\">\n",
       "  <thead>\n",
       "    <tr style=\"text-align: right;\">\n",
       "      <th></th>\n",
       "      <th>name</th>\n",
       "      <th>age</th>\n",
       "      <th>sal</th>\n",
       "    </tr>\n",
       "  </thead>\n",
       "  <tbody>\n",
       "    <tr>\n",
       "      <th>0</th>\n",
       "      <td>kesahv</td>\n",
       "      <td>25.0</td>\n",
       "      <td>75000.0</td>\n",
       "    </tr>\n",
       "    <tr>\n",
       "      <th>1</th>\n",
       "      <td>kesahv</td>\n",
       "      <td>30.0</td>\n",
       "      <td>95000.0</td>\n",
       "    </tr>\n",
       "    <tr>\n",
       "      <th>2</th>\n",
       "      <td>kesahv</td>\n",
       "      <td>30.0</td>\n",
       "      <td>95000.0</td>\n",
       "    </tr>\n",
       "    <tr>\n",
       "      <th>3</th>\n",
       "      <td>kesahv</td>\n",
       "      <td>30.0</td>\n",
       "      <td>65144.0</td>\n",
       "    </tr>\n",
       "    <tr>\n",
       "      <th>4</th>\n",
       "      <td>jon</td>\n",
       "      <td>30.0</td>\n",
       "      <td>65144.0</td>\n",
       "    </tr>\n",
       "    <tr>\n",
       "      <th>5</th>\n",
       "      <td>sonali</td>\n",
       "      <td>30.0</td>\n",
       "      <td>75000.0</td>\n",
       "    </tr>\n",
       "  </tbody>\n",
       "</table>\n",
       "</div>"
      ],
      "text/plain": [
       "     name   age      sal\n",
       "0  kesahv  25.0  75000.0\n",
       "1  kesahv  30.0  95000.0\n",
       "2  kesahv  30.0  95000.0\n",
       "3  kesahv  30.0  65144.0\n",
       "4     jon  30.0  65144.0\n",
       "5  sonali  30.0  75000.0"
      ]
     },
     "execution_count": 46,
     "metadata": {},
     "output_type": "execute_result"
    }
   ],
   "source": [
    "df1"
   ]
  },
  {
   "cell_type": "code",
   "execution_count": 47,
   "id": "9264c5bb",
   "metadata": {},
   "outputs": [
    {
     "name": "stdout",
     "output_type": "stream",
     "text": [
      " Volume in drive C is Windows\n",
      " Volume Serial Number is 10B6-0DC8\n",
      "\n",
      " Directory of C:\\Users\\kanti\\OneDrive\\Desktop\\ML session\\Pyspark\n",
      "\n",
      "05/04/2023  20:37    <DIR>          .\n",
      "05/04/2023  15:02    <DIR>          ..\n",
      "05/04/2023  20:14    <DIR>          .ipynb_checkpoints\n",
      "04/04/2023  20:08                23 .jovianrc\n",
      "17/09/2022  07:08       140.600.832 city_temperature.csv\n",
      "04/04/2023  20:59            41.389 Pyspark2.ipynb\n",
      "05/04/2023  20:37            18.218 Pyspark3.ipynb\n",
      "04/04/2023  20:44                77 test.csv\n",
      "05/04/2023  20:37               150 test12.csv\n",
      "               6 File(s)    140.660.689 bytes\n",
      "               3 Dir(s)     254.513.152 bytes free\n"
     ]
    }
   ],
   "source": [
    "ls"
   ]
  },
  {
   "cell_type": "code",
   "execution_count": 48,
   "id": "8dfb0643",
   "metadata": {},
   "outputs": [],
   "source": [
    "df1 = spark.read.csv('city_temperature.csv',header=True,inferSchema=True)"
   ]
  },
  {
   "cell_type": "code",
   "execution_count": 50,
   "id": "ee599d85",
   "metadata": {},
   "outputs": [
    {
     "name": "stdout",
     "output_type": "stream",
     "text": [
      "+------+-------+-----+-------+-----+---+----+--------------+\n",
      "|Region|Country|State|   City|Month|Day|Year|AvgTemperature|\n",
      "+------+-------+-----+-------+-----+---+----+--------------+\n",
      "|Africa|Algeria| null|Algiers|    1|  1|1995|          64.2|\n",
      "|Africa|Algeria| null|Algiers|    1|  2|1995|          49.4|\n",
      "|Africa|Algeria| null|Algiers|    1|  3|1995|          48.8|\n",
      "|Africa|Algeria| null|Algiers|    1|  4|1995|          46.4|\n",
      "|Africa|Algeria| null|Algiers|    1|  5|1995|          47.9|\n",
      "|Africa|Algeria| null|Algiers|    1|  6|1995|          48.7|\n",
      "|Africa|Algeria| null|Algiers|    1|  7|1995|          48.9|\n",
      "|Africa|Algeria| null|Algiers|    1|  8|1995|          49.1|\n",
      "|Africa|Algeria| null|Algiers|    1|  9|1995|          49.0|\n",
      "|Africa|Algeria| null|Algiers|    1| 10|1995|          51.9|\n",
      "|Africa|Algeria| null|Algiers|    1| 11|1995|          51.7|\n",
      "|Africa|Algeria| null|Algiers|    1| 12|1995|          51.3|\n",
      "|Africa|Algeria| null|Algiers|    1| 13|1995|          47.0|\n",
      "|Africa|Algeria| null|Algiers|    1| 14|1995|          46.9|\n",
      "|Africa|Algeria| null|Algiers|    1| 15|1995|          47.5|\n",
      "|Africa|Algeria| null|Algiers|    1| 16|1995|          45.9|\n",
      "|Africa|Algeria| null|Algiers|    1| 17|1995|          44.5|\n",
      "|Africa|Algeria| null|Algiers|    1| 18|1995|          50.7|\n",
      "|Africa|Algeria| null|Algiers|    1| 19|1995|          54.0|\n",
      "|Africa|Algeria| null|Algiers|    1| 20|1995|          52.6|\n",
      "+------+-------+-----+-------+-----+---+----+--------------+\n",
      "only showing top 20 rows\n",
      "\n"
     ]
    }
   ],
   "source": [
    "df1.show()"
   ]
  },
  {
   "cell_type": "code",
   "execution_count": 54,
   "id": "21a9359c",
   "metadata": {},
   "outputs": [
    {
     "name": "stdout",
     "output_type": "stream",
     "text": [
      "+------+-------+-----+-------+-----+---+----+--------------+\n",
      "|Region|Country|State|   City|Month|Day|Year|AvgTemperature|\n",
      "+------+-------+-----+-------+-----+---+----+--------------+\n",
      "|Africa|Algeria| null|Algiers|    1|  1|1998|          50.9|\n",
      "|Africa|Algeria| null|Algiers|    1|  2|1998|          52.5|\n",
      "|Africa|Algeria| null|Algiers|    1|  3|1998|          58.6|\n",
      "|Africa|Algeria| null|Algiers|    1|  4|1998|          56.4|\n",
      "|Africa|Algeria| null|Algiers|    1|  5|1998|          55.8|\n",
      "|Africa|Algeria| null|Algiers|    1|  6|1998|          56.9|\n",
      "|Africa|Algeria| null|Algiers|    1|  7|1998|          51.2|\n",
      "|Africa|Algeria| null|Algiers|    1|  8|1998|          50.9|\n",
      "|Africa|Algeria| null|Algiers|    1|  9|1998|          52.8|\n",
      "|Africa|Algeria| null|Algiers|    1| 10|1998|          56.5|\n",
      "|Africa|Algeria| null|Algiers|    1| 11|1998|          60.9|\n",
      "|Africa|Algeria| null|Algiers|    1| 12|1998|          61.1|\n",
      "|Africa|Algeria| null|Algiers|    1| 13|1998|          59.5|\n",
      "|Africa|Algeria| null|Algiers|    1| 14|1998|          53.1|\n",
      "|Africa|Algeria| null|Algiers|    1| 15|1998|          50.5|\n",
      "|Africa|Algeria| null|Algiers|    1| 16|1998|          49.4|\n",
      "|Africa|Algeria| null|Algiers|    1| 17|1998|          52.0|\n",
      "|Africa|Algeria| null|Algiers|    1| 18|1998|          46.9|\n",
      "|Africa|Algeria| null|Algiers|    1| 19|1998|          52.6|\n",
      "|Africa|Algeria| null|Algiers|    1| 20|1998|          59.3|\n",
      "+------+-------+-----+-------+-----+---+----+--------------+\n",
      "only showing top 20 rows\n",
      "\n"
     ]
    }
   ],
   "source": [
    "df1.filter(\"Year=1998\").show()"
   ]
  },
  {
   "cell_type": "code",
   "execution_count": 58,
   "id": "cd0adb62",
   "metadata": {},
   "outputs": [
    {
     "data": {
      "text/plain": [
       "2019415"
      ]
     },
     "execution_count": 58,
     "metadata": {},
     "output_type": "execute_result"
    }
   ],
   "source": [
    "df1.filter('AvgTemperature>50').count()"
   ]
  },
  {
   "cell_type": "code",
   "execution_count": 63,
   "id": "4fbf7829",
   "metadata": {},
   "outputs": [
    {
     "name": "stdout",
     "output_type": "stream",
     "text": [
      "+------+-------+-----+-------+-----+---+----+--------------+\n",
      "|Region|Country|State|   City|Month|Day|Year|AvgTemperature|\n",
      "+------+-------+-----+-------+-----+---+----+--------------+\n",
      "|Africa|Algeria| null|Algiers|    1|  1|1995|          64.2|\n",
      "|Africa|Algeria| null|Algiers|    1| 10|1995|          51.9|\n",
      "|Africa|Algeria| null|Algiers|    1| 11|1995|          51.7|\n",
      "|Africa|Algeria| null|Algiers|    1| 12|1995|          51.3|\n",
      "|Africa|Algeria| null|Algiers|    1| 18|1995|          50.7|\n",
      "|Africa|Algeria| null|Algiers|    1| 19|1995|          54.0|\n",
      "|Africa|Algeria| null|Algiers|    1| 20|1995|          52.6|\n",
      "|Africa|Algeria| null|Algiers|    1| 21|1995|          54.2|\n",
      "|Africa|Algeria| null|Algiers|    1| 22|1995|          51.0|\n",
      "|Africa|Algeria| null|Algiers|    1| 23|1995|          53.5|\n",
      "|Africa|Algeria| null|Algiers|    1| 24|1995|          54.2|\n",
      "|Africa|Algeria| null|Algiers|    1| 25|1995|          54.2|\n",
      "|Africa|Algeria| null|Algiers|    1| 26|1995|          52.6|\n",
      "|Africa|Algeria| null|Algiers|    1| 27|1995|          55.5|\n",
      "|Africa|Algeria| null|Algiers|    1| 28|1995|          53.8|\n",
      "|Africa|Algeria| null|Algiers|    1| 29|1995|          54.3|\n",
      "|Africa|Algeria| null|Algiers|    1| 30|1995|          57.4|\n",
      "|Africa|Algeria| null|Algiers|    1| 31|1995|          56.9|\n",
      "|Africa|Algeria| null|Algiers|    2|  1|1995|          50.4|\n",
      "|Africa|Algeria| null|Algiers|    2|  2|1995|          50.1|\n",
      "+------+-------+-----+-------+-----+---+----+--------------+\n",
      "only showing top 20 rows\n",
      "\n"
     ]
    }
   ],
   "source": [
    "df1.filter(('Region==Africa') and (\"AvgTemperature>50\")).show()"
   ]
  },
  {
   "cell_type": "code",
   "execution_count": 67,
   "id": "3de5fae7",
   "metadata": {},
   "outputs": [
    {
     "ename": "TypeError",
     "evalue": "bad operand type for unary ~: 'str'",
     "output_type": "error",
     "traceback": [
      "\u001b[1;31m---------------------------------------------------------------------------\u001b[0m",
      "\u001b[1;31mTypeError\u001b[0m                                 Traceback (most recent call last)",
      "Input \u001b[1;32mIn [67]\u001b[0m, in \u001b[0;36m<cell line: 1>\u001b[1;34m()\u001b[0m\n\u001b[1;32m----> 1\u001b[0m df1\u001b[38;5;241m.\u001b[39mfilter(\u001b[38;5;241;43m~\u001b[39;49m\u001b[43m(\u001b[49m\u001b[43m(\u001b[49m\u001b[38;5;124;43m\"\u001b[39;49m\u001b[38;5;124;43mAvgTemperature<50\u001b[39;49m\u001b[38;5;124;43m\"\u001b[39;49m\u001b[43m)\u001b[49m\u001b[43m \u001b[49m\u001b[38;5;129;43;01mand\u001b[39;49;00m\u001b[43m \u001b[49m\u001b[43m(\u001b[49m\u001b[38;5;124;43m\"\u001b[39;49m\u001b[38;5;124;43mAvgTemperature>50\u001b[39;49m\u001b[38;5;124;43m\"\u001b[39;49m\u001b[43m)\u001b[49m\u001b[43m)\u001b[49m)\u001b[38;5;241m.\u001b[39mshow()\n",
      "\u001b[1;31mTypeError\u001b[0m: bad operand type for unary ~: 'str'"
     ]
    }
   ],
   "source": [
    "df1.filter(~((\"AvgTemperature<50\") and (\"AvgTemperature>50\"))).show()"
   ]
  },
  {
   "cell_type": "code",
   "execution_count": 70,
   "id": "08b15173",
   "metadata": {},
   "outputs": [
    {
     "name": "stdout",
     "output_type": "stream",
     "text": [
      "+------+-------+-----+-------+-----+---+----+--------------+\n",
      "|Region|Country|State|   City|Month|Day|Year|AvgTemperature|\n",
      "+------+-------+-----+-------+-----+---+----+--------------+\n",
      "|Africa|Algeria| null|Algiers|    1|  2|1995|          49.4|\n",
      "|Africa|Algeria| null|Algiers|    1|  3|1995|          48.8|\n",
      "|Africa|Algeria| null|Algiers|    1|  4|1995|          46.4|\n",
      "|Africa|Algeria| null|Algiers|    1|  5|1995|          47.9|\n",
      "|Africa|Algeria| null|Algiers|    1|  6|1995|          48.7|\n",
      "|Africa|Algeria| null|Algiers|    1|  7|1995|          48.9|\n",
      "|Africa|Algeria| null|Algiers|    1|  8|1995|          49.1|\n",
      "|Africa|Algeria| null|Algiers|    1|  9|1995|          49.0|\n",
      "|Africa|Algeria| null|Algiers|    1| 13|1995|          47.0|\n",
      "|Africa|Algeria| null|Algiers|    1| 14|1995|          46.9|\n",
      "|Africa|Algeria| null|Algiers|    1| 15|1995|          47.5|\n",
      "|Africa|Algeria| null|Algiers|    1| 16|1995|          45.9|\n",
      "|Africa|Algeria| null|Algiers|    1| 17|1995|          44.5|\n",
      "|Africa|Algeria| null|Algiers|    2|  4|1995|          49.1|\n",
      "|Africa|Algeria| null|Algiers|    2|  5|1995|          48.8|\n",
      "|Africa|Algeria| null|Algiers|    2| 27|1995|          48.3|\n",
      "|Africa|Algeria| null|Algiers|    3| 31|1995|          46.6|\n",
      "|Africa|Algeria| null|Algiers|    4|  1|1995|          47.4|\n",
      "|Africa|Algeria| null|Algiers|    8|  9|1995|         -99.0|\n",
      "|Africa|Algeria| null|Algiers|    8| 10|1995|         -99.0|\n",
      "+------+-------+-----+-------+-----+---+----+--------------+\n",
      "only showing top 20 rows\n",
      "\n"
     ]
    }
   ],
   "source": [
    "df1.filter(~(df1['AvgTemperature']>50)).show()"
   ]
  },
  {
   "cell_type": "code",
   "execution_count": 84,
   "id": "0ebfc058",
   "metadata": {},
   "outputs": [
    {
     "data": {
      "text/plain": [
       "7"
      ]
     },
     "execution_count": 84,
     "metadata": {},
     "output_type": "execute_result"
    }
   ],
   "source": [
    "df1.select('Region').distinct().count()"
   ]
  },
  {
   "cell_type": "code",
   "execution_count": 85,
   "id": "b87da6d8",
   "metadata": {},
   "outputs": [],
   "source": [
    "#group by"
   ]
  },
  {
   "cell_type": "code",
   "execution_count": 92,
   "id": "da7ae0d7",
   "metadata": {},
   "outputs": [
    {
     "name": "stdout",
     "output_type": "stream",
     "text": [
      "+--------------------+-------+\n",
      "|              Region|  count|\n",
      "+--------------------+-------+\n",
      "|              Africa| 251118|\n",
      "|                Asia| 316663|\n",
      "|              Europe| 381990|\n",
      "|Australia/South P...|  55596|\n",
      "|       North America|1556681|\n",
      "|         Middle East| 124749|\n",
      "|South/Central Ame...| 219530|\n",
      "+--------------------+-------+\n",
      "\n"
     ]
    }
   ],
   "source": [
    "df1.groupBy('Region').count().show()"
   ]
  },
  {
   "cell_type": "code",
   "execution_count": 95,
   "id": "a95d110d",
   "metadata": {},
   "outputs": [
    {
     "name": "stdout",
     "output_type": "stream",
     "text": [
      "+--------------------+-------------------+\n",
      "|              Region|avg(AvgTemperature)|\n",
      "+--------------------+-------------------+\n",
      "|              Africa|  53.54951656193528|\n",
      "|                Asia|  62.56865184754707|\n",
      "|              Europe|  46.69628524306841|\n",
      "|Australia/South P...| 61.180869127275976|\n",
      "|       North America|  55.30093262524632|\n",
      "|         Middle East|  68.38455378399779|\n",
      "|South/Central Ame...|  62.18943880107512|\n",
      "+--------------------+-------------------+\n",
      "\n"
     ]
    }
   ],
   "source": [
    "df1.groupBy('Region').avg('AvgTemperature').show()"
   ]
  },
  {
   "cell_type": "code",
   "execution_count": null,
   "id": "74fea4c2",
   "metadata": {},
   "outputs": [],
   "source": []
  }
 ],
 "metadata": {
  "kernelspec": {
   "display_name": "Python 3",
   "language": "python",
   "name": "python3"
  },
  "language_info": {
   "codemirror_mode": {
    "name": "ipython",
    "version": 3
   },
   "file_extension": ".py",
   "mimetype": "text/x-python",
   "name": "python",
   "nbconvert_exporter": "python",
   "pygments_lexer": "ipython3",
   "version": "3.9.5"
  }
 },
 "nbformat": 4,
 "nbformat_minor": 5
}
